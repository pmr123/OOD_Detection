{
 "cells": [
  {
   "cell_type": "code",
   "execution_count": null,
   "metadata": {},
   "outputs": [],
   "source": [
    "# import libraries\n",
    "import torch\n",
    "import numpy as np\n",
    "from dataloader import get_dataloader_vae\n",
    "from dataloader import get_dataloader_OOD\n",
    "from utils import extract_feature_maps\n",
    "from models import get_trained_model\n",
    "#from energy import ELOOD\n",
    "import matplotlib.pyplot as plt"
   ]
  },
  {
   "cell_type": "code",
   "execution_count": null,
   "metadata": {},
   "outputs": [],
   "source": [
    "# Device configuration\n",
    "device = torch.device('cuda' if torch.cuda.is_available() else 'cpu')\n",
    "\n",
    "# class for energy-like ood detection\n",
    "class ELOOD:\n",
    "    def __init__(self, model, T=10000):\n",
    "        self.model = model.to(device)\n",
    "        self.T = T\n",
    "    \n",
    "    # get energy function values\n",
    "    # input size = [batch, n]\n",
    "    # output size = [batch]\n",
    "    def energy_vals(self, feats):\n",
    "\n",
    "        # Perform element-wise division by T\n",
    "        feats = np.divide(feats, self.T)      \n",
    "\n",
    "        # Get the exponential of all values in the tensor\n",
    "        feats = np.exp(feats)\n",
    "        \n",
    "        # Compute row-wise sum\n",
    "        total = np.zeros(feats.shape[0])\n",
    "        for i in range(feats.shape[0]):\n",
    "            total[i] = np.sum(feats[i]) \n",
    "\n",
    "        # get log values\n",
    "        total = np.log(total)\n",
    "\n",
    "        # Perform element-wise multiplication by -T\n",
    "        total = np.multiply(total, -self.T)\n",
    "\n",
    "        return total\n",
    "\n",
    "\n",
    "    # helper function to get free energy term [second term in energy function]\n",
    "    def get_free_energy(self, feats):\n",
    "        # Perform element-wise division by T\n",
    "        feats = np.divide(feats, self.T) \n",
    "\n",
    "        # Perform element-wise multiplication by -1\n",
    "        feats = np.multiply(feats, -1)\n",
    "\n",
    "        # Compute row-wise sum\n",
    "        total = np.zeros(feats.shape[0])\n",
    "        for i in range(feats.shape[0]):\n",
    "            total[i] = np.sum(feats[i]) \n",
    "\n",
    "        # get log values\n",
    "        total = np.log(total)\n",
    "\n",
    "        return total\n",
    "        \n",
    "    # get ood scores \n",
    "    def get_scores(self, loader):\n",
    "        ood_scores = []\n",
    "        for i, (images, _) in enumerate(loader):\n",
    "            images = images.to(device)\n",
    "            \n",
    "            # get feature maps\n",
    "            feats = extract_feature_maps(self.model, images)\n",
    "\n",
    "            # get latent space representation\n",
    "            _, _, _, z = self.model(images)\n",
    "\n",
    "            # append z to feats\n",
    "            feats.append(z.detach().cpu().data.numpy())\n",
    "\n",
    "            # get energy function scores\n",
    "            feats = [self.energy_vals(elem) for elem in feats]\n",
    "\n",
    "            feats = np.array(feats)\n",
    "            feats = feats.T\n",
    "\n",
    "            # find score for z\n",
    "            z_energy = self.energy_vals(z.detach().cpu().data.numpy())\n",
    "\n",
    "            # get scores\n",
    "            scores = np.divide(z_energy, self.T) + self.get_free_energy(feats)\n",
    "\n",
    "            # add scores to list\n",
    "            ood_scores.extend(scores)\n",
    "\n",
    "        return ood_scores"
   ]
  },
  {
   "cell_type": "code",
   "execution_count": null,
   "metadata": {},
   "outputs": [],
   "source": [
    "model = get_trained_model('CIFAR10')\n",
    "# get dataloaders\n",
    "train_dl, test_dl = get_dataloader_vae('CIFAR10')\n",
    "svhn_dl = get_dataloader_OOD('SVHN')\n",
    "det = ELOOD(model)"
   ]
  },
  {
   "cell_type": "code",
   "execution_count": null,
   "metadata": {},
   "outputs": [],
   "source": [
    "print(\"for c10\")\n",
    "c10 = det.get_scores(train_dl)\n",
    "print(\"for svhn\")\n",
    "sv = det.get_scores(svhn_dl)"
   ]
  },
  {
   "cell_type": "code",
   "execution_count": null,
   "metadata": {},
   "outputs": [],
   "source": [
    "len(c10), len(sv)"
   ]
  },
  {
   "cell_type": "code",
   "execution_count": null,
   "metadata": {},
   "outputs": [],
   "source": [
    "def statdesc(data):\n",
    "    ## Statistical Descriptors\n",
    "\n",
    "    # Mean\n",
    "    mean = np.mean(data)\n",
    "    print(f\"Mean: {mean}\")\n",
    "\n",
    "    # Median\n",
    "    median = np.median(data)\n",
    "    print(f\"Median: {median}\")\n",
    "\n",
    "    # Standard Deviation\n",
    "    std_dev = np.std(data)\n",
    "    print(f\"Standard Deviation: {std_dev}\")\n",
    "\n",
    "    # Quartiles\n",
    "    quartiles = np.quantile(data, [0.25, 0.5, 0.75])\n",
    "    print(f\"Quartiles: {quartiles}\")\n",
    "\n",
    "    # Interquartile Range (IQR)\n",
    "    iqr = quartiles[2] - quartiles[0]\n",
    "    print(f\"Interquartile Range (IQR): {iqr}\")\n",
    "\n",
    "    # Minimum and Maximum\n",
    "    data_min = np.min(data)\n",
    "    data_max = np.max(data)\n",
    "    print(f\"Minimum: {data_min}\")\n",
    "    print(f\"Maximum: {data_max}\")"
   ]
  },
  {
   "cell_type": "code",
   "execution_count": null,
   "metadata": {},
   "outputs": [],
   "source": [
    "statdesc(c10)\n",
    "print()\n",
    "statdesc(sv)"
   ]
  },
  {
   "cell_type": "code",
   "execution_count": null,
   "metadata": {},
   "outputs": [],
   "source": [
    "# Plot\n",
    "plt.boxplot([c10, sv])\n",
    "\n",
    "# Display the plot\n",
    "plt.show()"
   ]
  },
  {
   "cell_type": "code",
   "execution_count": null,
   "metadata": {},
   "outputs": [],
   "source": []
  }
 ],
 "metadata": {
  "kernelspec": {
   "display_name": "pmenv",
   "language": "python",
   "name": "python3"
  },
  "language_info": {
   "codemirror_mode": {
    "name": "ipython",
    "version": 3
   },
   "file_extension": ".py",
   "mimetype": "text/x-python",
   "name": "python",
   "nbconvert_exporter": "python",
   "pygments_lexer": "ipython3",
   "version": "3.11.9"
  }
 },
 "nbformat": 4,
 "nbformat_minor": 2
}
