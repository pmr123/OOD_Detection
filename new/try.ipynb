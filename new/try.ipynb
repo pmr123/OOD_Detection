{
 "cells": [
  {
   "cell_type": "code",
   "execution_count": null,
   "metadata": {},
   "outputs": [],
   "source": [
    "# import libraries\n",
    "import torch\n",
    "import numpy as np\n",
    "from dataloader import get_dataloader_vae\n",
    "from dataloader import get_dataloader_OOD\n",
    "from models import get_trained_model\n",
    "import matplotlib.pyplot as plt"
   ]
  },
  {
   "cell_type": "code",
   "execution_count": null,
   "metadata": {},
   "outputs": [],
   "source": [
    "model = get_trained_model('CIFAR10')\n",
    "# get dataloaders\n",
    "train_dl, test_dl = get_dataloader_vae('CIFAR10')"
   ]
  },
  {
   "cell_type": "code",
   "execution_count": null,
   "metadata": {},
   "outputs": [],
   "source": [
    "# Device configuration\n",
    "device = torch.device('cuda' if torch.cuda.is_available() else 'cpu')"
   ]
  },
  {
   "cell_type": "code",
   "execution_count": null,
   "metadata": {},
   "outputs": [],
   "source": [
    "# model train loop function\n",
    "def test_vae(model, num_epochs, train_loader, test_loader):\n",
    "    # send model to device\n",
    "    model = model.to(device)\n",
    "\n",
    "    train_loss = []\n",
    "    test_loss = []\n",
    "    num_train = 0\n",
    "    num_test = 0\n",
    "    best_loss = np.inf\n",
    "\n",
    "    for epoch in range(num_epochs):\n",
    "        num_train = 0\n",
    "        num_test = 0\n",
    "        # eval mode\n",
    "        model.eval()\n",
    "        avg_train_loss = 0\n",
    "        for i, (images, _) in enumerate(train_loader):\n",
    "            num_train += images.shape[0]\n",
    "            images = images.to(device)\n",
    "\n",
    "            # Forward pass\n",
    "            with torch.no_grad():\n",
    "                recon_images, mu, logvar, _ = model(images)\n",
    "                loss = 0.5 * (recon_images - images).pow(2).sum() - 0.5 * (1 + logvar - mu.pow(2) - logvar.exp()).sum()\n",
    "                avg_train_loss += loss\n",
    "        \n",
    "        avg_train_loss /= num_train         \n",
    "        \n",
    "        \n",
    "        # eval mode\n",
    "        model.eval()\n",
    "        avg_val_loss = 0\n",
    "        for i, (images, _) in enumerate(test_loader):\n",
    "            num_test += images.shape[0]\n",
    "            images = images.to(device)\n",
    "\n",
    "            # Forward pass\n",
    "            with torch.no_grad():\n",
    "                recon_images, mu, logvar, _ = model(images)\n",
    "                loss = 0.5 * (recon_images - images).pow(2).sum() - 0.5 * (1 + logvar - mu.pow(2) - logvar.exp()).sum()\n",
    "                avg_val_loss += loss\n",
    "        \n",
    "        avg_val_loss /= num_test\n",
    "\n",
    "        # logging losses\n",
    "        train_loss.append(avg_train_loss.detach().cpu().data.numpy())\n",
    "        test_loss.append(avg_val_loss.detach().cpu().data.numpy())\n",
    "        print(f'Epoch [{epoch+1}/{num_epochs}], Training Loss: {avg_train_loss.item():.4f}, Validation Loss: {avg_val_loss.item():.4f}')\n",
    "\n",
    "    return model, train_loss, test_loss"
   ]
  },
  {
   "cell_type": "code",
   "execution_count": 5,
   "metadata": {},
   "outputs": [
    {
     "name": "stdout",
     "output_type": "stream",
     "text": [
      "Epoch [6/100], Training Loss: 159.2156, Validation Loss: 157.0721\n",
      "Epoch [7/100], Training Loss: 136.4739, Validation Loss: 134.6388\n"
     ]
    }
   ],
   "source": [
    "model, train_loss, test_loss = test_vae(model, 100, train_dl, test_dl)"
   ]
  },
  {
   "cell_type": "code",
   "execution_count": null,
   "metadata": {},
   "outputs": [],
   "source": [
    "# plot losses\n",
    "plt.plot(range(len(train_loss)), train_loss, label=\"Training Loss\")\n",
    "plt.plot(range(len(test_loss)), test_loss, label=\"Validation Loss\")\n",
    "plt.title('Training and Validation loss per epoch for CIFAR10 VAE')\n",
    "plt.xlabel('Epoch')\n",
    "plt.ylabel('Val Loss')\n",
    "plt.legend()\n",
    "plt.show() "
   ]
  }
 ],
 "metadata": {
  "kernelspec": {
   "display_name": "pmenv",
   "language": "python",
   "name": "python3"
  },
  "language_info": {
   "codemirror_mode": {
    "name": "ipython",
    "version": 3
   },
   "file_extension": ".py",
   "mimetype": "text/x-python",
   "name": "python",
   "nbconvert_exporter": "python",
   "pygments_lexer": "ipython3",
   "version": "3.11.9"
  }
 },
 "nbformat": 4,
 "nbformat_minor": 2
}
