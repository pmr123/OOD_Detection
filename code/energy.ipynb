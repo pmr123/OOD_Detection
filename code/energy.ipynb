{
 "cells": [
  {
   "cell_type": "code",
   "execution_count": 1,
   "metadata": {},
   "outputs": [
    {
     "name": "stderr",
     "output_type": "stream",
     "text": [
      "c:\\Users\\prtkm\\anaconda3\\envs\\pmenv\\Lib\\site-packages\\torchvision\\io\\image.py:13: UserWarning: Failed to load image Python extension: '[WinError 127] The specified procedure could not be found'If you don't plan on using image functionality from `torchvision.io`, you can ignore this warning. Otherwise, there might be something wrong with your environment. Did you have `libjpeg` or `libpng` installed before building `torchvision` from source?\n",
      "  warn(\n"
     ]
    }
   ],
   "source": [
    "# import libraries\n",
    "import torch\n",
    "import numpy as np\n",
    "from dataloader import get_dataloader_vae\n",
    "from dataloader import get_dataloader_OOD\n",
    "from utils import extract_feature_maps\n",
    "from models import get_trained_model\n",
    "#from energy import ELOOD\n",
    "import matplotlib.pyplot as plt"
   ]
  },
  {
   "cell_type": "code",
   "execution_count": 2,
   "metadata": {},
   "outputs": [],
   "source": [
    "# Device configuration\n",
    "device = torch.device('cuda' if torch.cuda.is_available() else 'cpu')\n",
    "\n",
    "# class for energy-like ood detection\n",
    "class ELOOD:\n",
    "    def __init__(self, model, T=10000):\n",
    "        self.model = model.to(device)\n",
    "        self.T = T\n",
    "    \n",
    "    # get energy function values\n",
    "    # input size = [batch, n]\n",
    "    # output size = [batch]\n",
    "    def energy_vals(self, feats):\n",
    "        # Perform element-wise division by T\n",
    "        feats = np.divide(feats, self.T)      \n",
    "\n",
    "        # Get the exponential of all values in the tensor\n",
    "        feats = np.exp(feats)\n",
    "\n",
    "        # Compute row-wise sum\n",
    "        total = np.zeros(feats.shape[0])\n",
    "        for i in range(feats.shape[0]):\n",
    "            total[i] = np.sum(feats[i])\n",
    "            # diving by number of elements to get avg\n",
    "            total[i] = np.divide(total[i], np.prod(feats[i].shape)) \n",
    "\n",
    "        # Perform element-wise multiplication by T\n",
    "        total = np.multiply(total, self.T)\n",
    "\n",
    "        return total\n",
    "\n",
    "\n",
    "    # get ood scores \n",
    "    def get_scores(self, loader):\n",
    "        ood_scores = []\n",
    "        for i, (images, _) in enumerate(loader):\n",
    "            images = images.to(device)\n",
    "            \n",
    "            # get feature maps\n",
    "            feats = extract_feature_maps(self.model, images)\n",
    "\n",
    "            # get latent space representation\n",
    "            _, _, _, z = self.model(images)\n",
    "\n",
    "            # append z to feats\n",
    "            feats.append(z.detach().cpu().data.numpy())\n",
    "\n",
    "            # get energy function scores\n",
    "            feats = [self.energy_vals(elem) for elem in feats]\n",
    "\n",
    "            # compute sum\n",
    "            total = np.zeros_like(feats[0])\n",
    "            for elem in feats:\n",
    "                total = np.add(total, elem)\n",
    "\n",
    "            # get average\n",
    "            total = np.divide(total, len(feats))   \n",
    "\n",
    "            # find score for z\n",
    "            z_energy = self.energy_vals(z.detach().cpu().data.numpy())\n",
    "\n",
    "            # get scores\n",
    "            scores = np.divide(z_energy, total)   \n",
    "\n",
    "            # add scores to list\n",
    "            ood_scores.extend(scores)\n",
    "\n",
    "        return ood_scores"
   ]
  },
  {
   "cell_type": "code",
   "execution_count": 3,
   "metadata": {},
   "outputs": [
    {
     "name": "stdout",
     "output_type": "stream",
     "text": [
      "Files already downloaded and verified\n",
      "Using downloaded and verified file: data\\test_32x32.mat\n"
     ]
    }
   ],
   "source": [
    "model = get_trained_model('CIFAR10')\n",
    "# get dataloaders\n",
    "train_dl, test_dl = get_dataloader_vae('CIFAR10')\n",
    "svhn_dl = get_dataloader_OOD('SVHN')\n",
    "det = ELOOD(model)"
   ]
  },
  {
   "cell_type": "code",
   "execution_count": 4,
   "metadata": {},
   "outputs": [
    {
     "name": "stdout",
     "output_type": "stream",
     "text": [
      "for c10\n",
      "for svhn\n"
     ]
    },
    {
     "name": "stderr",
     "output_type": "stream",
     "text": [
      "c:\\Users\\prtkm\\anaconda3\\envs\\pmenv\\Lib\\site-packages\\torchvision\\transforms\\functional.py:1603: UserWarning: The default value of the antialias parameter of all the resizing transforms (Resize(), RandomResizedCrop(), etc.) will change from None to True in v0.17, in order to be consistent across the PIL and Tensor backends. To suppress this warning, directly pass antialias=True (recommended, future default), antialias=None (current default, which means False for Tensors and True for PIL), or antialias=False (only works on Tensors - PIL will still use antialiasing). This also applies if you are using the inference transforms from the models weights: update the call to weights.transforms(antialias=True).\n",
      "  warnings.warn(\n"
     ]
    }
   ],
   "source": [
    "print(\"for c10\")\n",
    "c10 = det.get_scores(train_dl)\n",
    "print(\"for svhn\")\n",
    "sv = det.get_scores(svhn_dl)"
   ]
  },
  {
   "cell_type": "code",
   "execution_count": 5,
   "metadata": {},
   "outputs": [
    {
     "data": {
      "text/plain": [
       "(50000, 26032)"
      ]
     },
     "execution_count": 5,
     "metadata": {},
     "output_type": "execute_result"
    }
   ],
   "source": [
    "len(c10), len(sv)"
   ]
  },
  {
   "cell_type": "code",
   "execution_count": 6,
   "metadata": {},
   "outputs": [],
   "source": [
    "def statdesc(data):\n",
    "    ## Statistical Descriptors\n",
    "\n",
    "    # Mean\n",
    "    mean = np.mean(data)\n",
    "    print(f\"Mean: {mean}\")\n",
    "\n",
    "    # Median\n",
    "    median = np.median(data)\n",
    "    print(f\"Median: {median}\")\n",
    "\n",
    "    # Standard Deviation\n",
    "    std_dev = np.std(data)\n",
    "    print(f\"Standard Deviation: {std_dev}\")\n",
    "\n",
    "    # Quartiles\n",
    "    quartiles = np.quantile(data, [0.25, 0.5, 0.75])\n",
    "    print(f\"Quartiles: {quartiles}\")\n",
    "\n",
    "    # Interquartile Range (IQR)\n",
    "    iqr = quartiles[2] - quartiles[0]\n",
    "    print(f\"Interquartile Range (IQR): {iqr}\")\n",
    "\n",
    "    # Minimum and Maximum\n",
    "    data_min = np.min(data)\n",
    "    data_max = np.max(data)\n",
    "    print(f\"Minimum: {data_min}\")\n",
    "    print(f\"Maximum: {data_max}\")"
   ]
  },
  {
   "cell_type": "code",
   "execution_count": 7,
   "metadata": {},
   "outputs": [
    {
     "name": "stdout",
     "output_type": "stream",
     "text": [
      "Mean: 1.0004289616749518\n",
      "Median: 1.0003681812548142\n",
      "Standard Deviation: 0.0003011949864980076\n",
      "Quartiles: [1.00022018 1.00036818 1.00057137]\n",
      "Interquartile Range (IQR): 0.00035118497367947477\n",
      "Minimum: 0.9997308199694082\n",
      "Maximum: 1.0019133167130565\n",
      "\n",
      "Mean: 1.0005940901489943\n",
      "Median: 1.0003748083707267\n",
      "Standard Deviation: 0.0005444998050939431\n",
      "Quartiles: [1.00015464 1.00037481 1.00112733]\n",
      "Interquartile Range (IQR): 0.0009726917204135876\n",
      "Minimum: 0.9997132072444885\n",
      "Maximum: 1.002134607987501\n"
     ]
    }
   ],
   "source": [
    "statdesc(c10)\n",
    "print()\n",
    "statdesc(sv)"
   ]
  },
  {
   "cell_type": "code",
   "execution_count": 8,
   "metadata": {},
   "outputs": [
    {
     "data": {
      "image/png": "[encoded data removed]",
      "text/plain": [
       "<Figure size 640x480 with 1 Axes>"
      ]
     },
     "metadata": {},
     "output_type": "display_data"
    }
   ],
   "source": [
    "# Plot\n",
    "plt.boxplot([c10, sv])\n",
    "\n",
    "# Display the plot\n",
    "plt.show()"
   ]
  },
  {
   "cell_type": "code",
   "execution_count": null,
   "metadata": {},
   "outputs": [],
   "source": []
  }
 ],
 "metadata": {
  "kernelspec": {
   "display_name": "pmenv",
   "language": "python",
   "name": "python3"
  },
  "language_info": {
   "codemirror_mode": {
    "name": "ipython",
    "version": 3
   },
   "file_extension": ".py",
   "mimetype": "text/x-python",
   "name": "python",
   "nbconvert_exporter": "python",
   "pygments_lexer": "ipython3",
   "version": "3.11.5"
  }
 },
 "nbformat": 4,
 "nbformat_minor": 2
}
