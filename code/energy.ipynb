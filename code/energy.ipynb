{
 "cells": [
  {
   "cell_type": "code",
   "execution_count": null,
   "metadata": {},
   "outputs": [],
   "source": [
    "# import libraries\n",
    "from dataloader import get_dataloader_vae\n",
    "from dataloader import get_dataloader_OOD\n",
    "from models import get_trained_model\n",
    "from energy import ELOOD"
   ]
  },
  {
   "cell_type": "markdown",
   "metadata": {},
   "source": [
    "# Get model, dataloaders, and OOD detectors"
   ]
  },
  {
   "cell_type": "code",
   "execution_count": null,
   "metadata": {},
   "outputs": [],
   "source": [
    "# get model\n",
    "model = get_trained_model('CIFAR10')\n",
    "\n",
    "# get dataloaders\n",
    "train_dl_c10, _ = get_dataloader_vae('CIFAR10')\n",
    "train_dl_c100, _ = get_dataloader_vae('CIFAR100')\n",
    "svhn_dl = get_dataloader_OOD('SVHN')\n",
    "lsun_dl = get_dataloader_OOD('LSUN')\n",
    "\n",
    "# get OOD detector\n",
    "c10_ood = ELOOD(model)\n",
    "c100_ood = ELOOD(model)"
   ]
  },
  {
   "cell_type": "markdown",
   "metadata": {},
   "source": [
    "# Train OOD detector for CIFAR 10"
   ]
  },
  {
   "cell_type": "code",
   "execution_count": null,
   "metadata": {},
   "outputs": [],
   "source": [
    "c10_ood.train_ood(train_dl_c10)"
   ]
  },
  {
   "cell_type": "markdown",
   "metadata": {},
   "source": [
    "# Get predictions for SVHN and LSUN"
   ]
  },
  {
   "cell_type": "code",
   "execution_count": null,
   "metadata": {},
   "outputs": [],
   "source": [
    "svhn_c10_ood = c10_ood.predict_ood(svhn_dl)\n",
    "lsun_c10_ood = c10_ood.predict_ood(lsun_dl)"
   ]
  },
  {
   "cell_type": "markdown",
   "metadata": {},
   "source": [
    "# Train OOD detector for CIFAR 100"
   ]
  },
  {
   "cell_type": "code",
   "execution_count": null,
   "metadata": {},
   "outputs": [],
   "source": [
    "c100_ood.train_ood(train_dl_c100)"
   ]
  },
  {
   "cell_type": "markdown",
   "metadata": {},
   "source": [
    "# Get predictions for SVHN and LSUN"
   ]
  },
  {
   "cell_type": "code",
   "execution_count": null,
   "metadata": {},
   "outputs": [],
   "source": [
    "svhn_c100_ood = c100_ood.predict_ood(svhn_dl)\n",
    "lsun_c100_ood = c100_ood.predict_ood(lsun_dl)"
   ]
  }
 ],
 "metadata": {
  "kernelspec": {
   "display_name": "pmenv",
   "language": "python",
   "name": "python3"
  },
  "language_info": {
   "codemirror_mode": {
    "name": "ipython",
    "version": 3
   },
   "file_extension": ".py",
   "mimetype": "text/x-python",
   "name": "python",
   "nbconvert_exporter": "python",
   "pygments_lexer": "ipython3",
   "version": "3.11.9"
  }
 },
 "nbformat": 4,
 "nbformat_minor": 2
}
