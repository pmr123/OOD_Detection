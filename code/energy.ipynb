{
 "cells": [
  {
   "cell_type": "code",
   "execution_count": 1,
   "metadata": {},
   "outputs": [],
   "source": [
    "# import libraries\n",
    "from dataloader import get_dataloader_vae\n",
    "from dataloader import get_dataloader_OOD\n",
    "from models import get_trained_model\n",
    "from energy import ELOOD"
   ]
  },
  {
   "cell_type": "markdown",
   "metadata": {},
   "source": [
    "# Get model, dataloaders, and OOD detectors"
   ]
  },
  {
   "cell_type": "code",
   "execution_count": 2,
   "metadata": {},
   "outputs": [
    {
     "name": "stdout",
     "output_type": "stream",
     "text": [
      "Files already downloaded and verified\n",
      "Files already downloaded and verified\n",
      "Using downloaded and verified file: data\\test_32x32.mat\n"
     ]
    }
   ],
   "source": [
    "# get model\n",
    "model = get_trained_model('CIFAR10')\n",
    "\n",
    "# get dataloaders\n",
    "train_dl_c10, _ = get_dataloader_vae('CIFAR10')\n",
    "train_dl_c100, _ = get_dataloader_vae('CIFAR100')\n",
    "svhn_dl = get_dataloader_OOD('SVHN')\n",
    "lsun_dl = get_dataloader_OOD('LSUN')\n",
    "\n",
    "# get OOD detector\n",
    "c10_ood = ELOOD(model)\n",
    "c100_ood = ELOOD(model)"
   ]
  },
  {
   "cell_type": "markdown",
   "metadata": {},
   "source": [
    "# Train OOD detector for CIFAR 10"
   ]
  },
  {
   "cell_type": "code",
   "execution_count": 3,
   "metadata": {},
   "outputs": [],
   "source": [
    "c10_ood.train_ood(train_dl_c10)"
   ]
  },
  {
   "cell_type": "markdown",
   "metadata": {},
   "source": [
    "# Get predictions for SVHN and LSUN"
   ]
  },
  {
   "cell_type": "code",
   "execution_count": 4,
   "metadata": {},
   "outputs": [],
   "source": [
    "svhn_c10_ood = c10_ood.predict_ood(svhn_dl)\n",
    "lsun_c10_ood = c10_ood.predict_ood(lsun_dl)"
   ]
  },
  {
   "cell_type": "markdown",
   "metadata": {},
   "source": [
    "# Train OOD detector for CIFAR 100"
   ]
  },
  {
   "cell_type": "code",
   "execution_count": 5,
   "metadata": {},
   "outputs": [],
   "source": [
    "c100_ood.train_ood(train_dl_c100)"
   ]
  },
  {
   "cell_type": "markdown",
   "metadata": {},
   "source": [
    "# Get predictions for SVHN and LSUN"
   ]
  },
  {
   "cell_type": "code",
   "execution_count": 6,
   "metadata": {},
   "outputs": [],
   "source": [
    "svhn_c100_ood = c100_ood.predict_ood(svhn_dl)\n",
    "lsun_c100_ood = c100_ood.predict_ood(lsun_dl)"
   ]
  },
  {
   "cell_type": "markdown",
   "metadata": {},
   "source": [
    "# Get metrics for all predictions"
   ]
  },
  {
   "cell_type": "code",
   "execution_count": 7,
   "metadata": {},
   "outputs": [
    {
     "name": "stdout",
     "output_type": "stream",
     "text": [
      "For VAE trained on CIFAR 10 =>\n",
      "For SVHN =>\n",
      "FPR@TPR95 =  1.0  AUPR =  0.7306610288106328  AUROC =  0.6155885064535955\n",
      "For LSUN =>\n",
      "FPR@TPR95 =  0.5016  AUPR =  0.8320384589726484  AUROC =  0.7479\n",
      "\n",
      "For VAE trained on CIFAR 100 =>\n",
      "For SVHN =>\n",
      "FPR@TPR95 =  1.0  AUPR =  0.7401213753785955  AUROC =  0.6271896127842655\n",
      "For LSUN =>\n",
      "FPR@TPR95 =  0.5018  AUPR =  0.8286607382550335  AUROC =  0.7432\n"
     ]
    }
   ],
   "source": [
    "print(\"For VAE trained on CIFAR 10 =>\")\n",
    "print(\"For SVHN =>\")\n",
    "false_positive_rate_95, aupr, auroc = c10_ood.get_metrics(svhn_c10_ood)\n",
    "print(\"FPR@TPR95 = \", false_positive_rate_95,\" AUPR = \", aupr,\" AUROC = \", auroc)\n",
    "print(\"For LSUN =>\")\n",
    "false_positive_rate_95, aupr, auroc = c10_ood.get_metrics(lsun_c10_ood)\n",
    "print(\"FPR@TPR95 = \", false_positive_rate_95,\" AUPR = \", aupr,\" AUROC = \", auroc)\n",
    "print()\n",
    "print(\"For VAE trained on CIFAR 100 =>\")\n",
    "print(\"For SVHN =>\")\n",
    "false_positive_rate_95, aupr, auroc = c100_ood.get_metrics(svhn_c100_ood)\n",
    "print(\"FPR@TPR95 = \", false_positive_rate_95,\" AUPR = \", aupr,\" AUROC = \", auroc)\n",
    "print(\"For LSUN =>\")\n",
    "false_positive_rate_95, aupr, auroc = c100_ood.get_metrics(lsun_c100_ood)\n",
    "print(\"FPR@TPR95 = \", false_positive_rate_95,\" AUPR = \", aupr,\" AUROC = \", auroc)"
   ]
  },
  {
   "cell_type": "code",
   "execution_count": null,
   "metadata": {},
   "outputs": [],
   "source": []
  }
 ],
 "metadata": {
  "kernelspec": {
   "display_name": "pmenv",
   "language": "python",
   "name": "python3"
  },
  "language_info": {
   "codemirror_mode": {
    "name": "ipython",
    "version": 3
   },
   "file_extension": ".py",
   "mimetype": "text/x-python",
   "name": "python",
   "nbconvert_exporter": "python",
   "pygments_lexer": "ipython3",
   "version": "3.11.9"
  }
 },
 "nbformat": 4,
 "nbformat_minor": 2
}
