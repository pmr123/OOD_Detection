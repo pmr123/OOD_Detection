{
 "cells": [
  {
   "cell_type": "code",
   "execution_count": 1,
   "metadata": {},
   "outputs": [],
   "source": [
    "# import libraries\n",
    "import torch\n",
    "import numpy as np\n",
    "from dataloader import get_dataloader_vae\n",
    "from dataloader import get_dataloader_OOD\n",
    "from models import get_trained_model\n",
    "from torch.distributions.multivariate_normal import MultivariateNormal\n",
    "#from energy import ELOOD\n",
    "import matplotlib.pyplot as plt"
   ]
  },
  {
   "cell_type": "code",
   "execution_count": 2,
   "metadata": {},
   "outputs": [],
   "source": [
    "# Device configuration\n",
    "device = torch.device('cuda' if torch.cuda.is_available() else 'cpu')\n",
    "\n",
    "# class for energy-like ood detection\n",
    "class ELOOD:\n",
    "    def __init__(self, model, T=10000):\n",
    "        self.model = model.to(device)\n",
    "        \n",
    "    # get reconstruction term of energy per sample\n",
    "    def get_recon_energy(self, output, input):\n",
    "        '''\n",
    "        # Construct the multivariate Gaussian distribution\n",
    "        sigma = torch.exp(0.5 * logvar)\n",
    "        mvn = MultivariateNormal(mu, torch.diag_embed(sigma))\n",
    "\n",
    "        log_prob = mvn.log_prob(z)\n",
    "\n",
    "        return -log_prob\n",
    "        '''\n",
    "        result = (output - input).pow(2).sum()\n",
    "        return result\n",
    "\n",
    "\n",
    "    # get ood scores \n",
    "    def get_scores(self, loader):\n",
    "        ood_scores = []\n",
    "        for i, (images, _) in enumerate(loader):\n",
    "            images = images.to(device)\n",
    "            \n",
    "            # get reconstructed, mu, logvar, latent space representation\n",
    "            reconstructed, mu, logvar, z = self.model(images)\n",
    "\n",
    "\n",
    "            # get reconstruction term of energy\n",
    "            recon_energy = torch.zeros((images.shape[0]))\n",
    "            for i in range(images.shape[0]):\n",
    "                recon_energy[i] = self.get_recon_energy(reconstructed[i], images[i])\n",
    "            \n",
    "            kld = torch.zeros((images.shape[0]))\n",
    "            for i in range(images.shape[0]):\n",
    "                kld[i] = - 0.5 * (1 + logvar[i] - mu[i].pow(2) - logvar[i].exp()).sum()\n",
    "\n",
    "            # get KL divergence term of energy\n",
    "            #kld = -0.5 * torch.sum(1 + logvar - mu ** 2 - logvar.exp(), dim = 1)\n",
    "\n",
    "            scores = recon_energy.cpu().data.numpy() + kld.cpu().data.numpy()\n",
    "            \n",
    "            ood_scores.extend(scores) \n",
    "        \n",
    "        return ood_scores"
   ]
  },
  {
   "cell_type": "code",
   "execution_count": 3,
   "metadata": {},
   "outputs": [
    {
     "name": "stdout",
     "output_type": "stream",
     "text": [
      "Files already downloaded and verified\n",
      "Using downloaded and verified file: data\\test_32x32.mat\n"
     ]
    }
   ],
   "source": [
    "model = get_trained_model('CIFAR10')\n",
    "# get dataloaders\n",
    "train_dl, test_dl = get_dataloader_vae('CIFAR10')\n",
    "svhn_dl = get_dataloader_OOD('SVHN')\n",
    "lsun_dl = get_dataloader_OOD('LSUN')\n",
    "det = ELOOD(model)"
   ]
  },
  {
   "cell_type": "code",
   "execution_count": 4,
   "metadata": {},
   "outputs": [
    {
     "name": "stdout",
     "output_type": "stream",
     "text": [
      "for c10\n",
      "for svhn\n",
      "for lsun\n"
     ]
    }
   ],
   "source": [
    "print(\"for c10\")\n",
    "c10 = det.get_scores(train_dl)\n",
    "print(\"for svhn\")\n",
    "sv = det.get_scores(svhn_dl)\n",
    "print(\"for lsun\")\n",
    "ls = det.get_scores(lsun_dl)"
   ]
  },
  {
   "cell_type": "code",
   "execution_count": 5,
   "metadata": {},
   "outputs": [
    {
     "data": {
      "text/plain": [
       "(50000, 26032, 10000)"
      ]
     },
     "execution_count": 5,
     "metadata": {},
     "output_type": "execute_result"
    }
   ],
   "source": [
    "len(c10), len(sv), len(ls)"
   ]
  },
  {
   "cell_type": "code",
   "execution_count": 6,
   "metadata": {},
   "outputs": [],
   "source": [
    "def statdesc(data):\n",
    "    ## Statistical Descriptors\n",
    "\n",
    "    # Mean\n",
    "    mean = np.mean(data)\n",
    "    print(f\"Mean: {mean}\")\n",
    "\n",
    "    # Median\n",
    "    median = np.median(data)\n",
    "    print(f\"Median: {median}\")\n",
    "\n",
    "    # Standard Deviation\n",
    "    std_dev = np.std(data)\n",
    "    print(f\"Standard Deviation: {std_dev}\")\n",
    "\n",
    "    # Quartiles\n",
    "    quartiles = np.quantile(data, [0.25, 0.5, 0.75])\n",
    "    print(f\"Quartiles: {quartiles}\")\n",
    "\n",
    "    # Interquartile Range (IQR)\n",
    "    iqr = quartiles[2] - quartiles[0]\n",
    "    print(f\"Interquartile Range (IQR): {iqr}\")\n",
    "\n",
    "    # Minimum and Maximum\n",
    "    data_min = np.min(data)\n",
    "    data_max = np.max(data)\n",
    "    print(f\"Minimum: {data_min}\")\n",
    "    print(f\"Maximum: {data_max}\")"
   ]
  },
  {
   "cell_type": "code",
   "execution_count": 7,
   "metadata": {},
   "outputs": [
    {
     "name": "stdout",
     "output_type": "stream",
     "text": [
      "Mean: 1191.624755859375\n",
      "Median: 1102.68408203125\n",
      "Standard Deviation: 592.7325439453125\n",
      "Quartiles: [ 754.78373718 1102.684021   1525.08459473]\n",
      "Interquartile Range (IQR): 770.3008575439453\n",
      "Minimum: 64.12699890136719\n",
      "Maximum: 5435.53564453125\n",
      "\n",
      "Mean: 750.72509765625\n",
      "Median: 576.1012573242188\n",
      "Standard Deviation: 563.7557373046875\n",
      "Quartiles: [370.43928528 576.10125732 933.4112854 ]\n",
      "Interquartile Range (IQR): 562.9720001220703\n",
      "Minimum: 76.08222961425781\n",
      "Maximum: 4768.61669921875\n",
      "\n",
      "Mean: 3543.569580078125\n",
      "Median: 3383.09716796875\n",
      "Standard Deviation: 1087.8359375\n",
      "Quartiles: [2737.77319336 3383.09716797 4177.00854492]\n",
      "Interquartile Range (IQR): 1439.2353515625\n",
      "Minimum: 1190.0885009765625\n",
      "Maximum: 8530.6201171875\n"
     ]
    }
   ],
   "source": [
    "statdesc(c10)\n",
    "print()\n",
    "statdesc(sv)\n",
    "print()\n",
    "statdesc(ls)"
   ]
  },
  {
   "cell_type": "code",
   "execution_count": 8,
   "metadata": {},
   "outputs": [
    {
     "data": {
      "image/png": "[encoded data removed]",
      "text/plain": [
       "<Figure size 640x480 with 1 Axes>"
      ]
     },
     "metadata": {},
     "output_type": "display_data"
    }
   ],
   "source": [
    "# Plot\n",
    "plt.boxplot([c10, sv, ls])\n",
    "\n",
    "# Display the plot\n",
    "plt.show()"
   ]
  },
  {
   "cell_type": "code",
   "execution_count": null,
   "metadata": {},
   "outputs": [],
   "source": []
  }
 ],
 "metadata": {
  "kernelspec": {
   "display_name": "pmenv",
   "language": "python",
   "name": "python3"
  },
  "language_info": {
   "codemirror_mode": {
    "name": "ipython",
    "version": 3
   },
   "file_extension": ".py",
   "mimetype": "text/x-python",
   "name": "python",
   "nbconvert_exporter": "python",
   "pygments_lexer": "ipython3",
   "version": "3.11.9"
  }
 },
 "nbformat": 4,
 "nbformat_minor": 2
}
