{
 "cells": [
  {
   "cell_type": "code",
   "execution_count": null,
   "metadata": {},
   "outputs": [],
   "source": [
    "# import libraries\n",
    "import numpy as np\n",
    "from dataloader import get_dataloader_vae\n",
    "from models import VAE\n",
    "from utils import train_vae\n",
    "import matplotlib.pyplot as plt\n",
    "import torch"
   ]
  },
  {
   "cell_type": "code",
   "execution_count": null,
   "metadata": {},
   "outputs": [],
   "source": [
    "learning_rate = 1e-3\n",
    "weight_decay = 1e-2"
   ]
  },
  {
   "cell_type": "markdown",
   "metadata": {},
   "source": [
    "# For CIFAR 10 VAE"
   ]
  },
  {
   "cell_type": "code",
   "execution_count": null,
   "metadata": {},
   "outputs": [],
   "source": [
    "# create model\n",
    "cifar10 = VAE()\n",
    "\n",
    "# print model structure\n",
    "print(f\"Model structure: {cifar10}\\n\\n\")\n",
    "\n",
    "# get dataloaders\n",
    "train_dl, test_dl = get_dataloader_vae('CIFAR10')\n",
    "\n",
    "# create optimizer\n",
    "optimizer = torch.optim.AdamW(cifar10.parameters(), lr=learning_rate, weight_decay=weight_decay)\n",
    "\n",
    "# train vae\n",
    "cifar10, train_loss_c10, test_loss_c10 = train_vae(cifar10, optimizer, 150, train_dl, test_dl, 'CIFAR10')\n",
    "\n",
    "# delete model from memory to save space\n",
    "del cifar10"
   ]
  },
  {
   "cell_type": "code",
   "execution_count": null,
   "metadata": {},
   "outputs": [],
   "source": [
    "# plot losses\n",
    "plt.plot(range(len(train_loss_c10)), train_loss_c10, label=\"Training Loss\")\n",
    "plt.plot(range(len(test_loss_c10)), test_loss_c10, label=\"Validation Loss\")\n",
    "plt.title('Training and Validation loss per epoch for CIFAR10 VAE')\n",
    "plt.xlabel('Epoch')\n",
    "plt.ylabel('Val Loss')\n",
    "plt.legend()\n",
    "plt.show() "
   ]
  },
  {
   "cell_type": "markdown",
   "metadata": {},
   "source": [
    "# For CIFAR 100 VAE"
   ]
  },
  {
   "cell_type": "code",
   "execution_count": null,
   "metadata": {},
   "outputs": [],
   "source": [
    "# create model\n",
    "cifar100 = VAE()\n",
    "\n",
    "# print model structure\n",
    "print(f\"Model structure: {cifar100}\\n\\n\")\n",
    "\n",
    "# get dataloaders\n",
    "train_dl, test_dl = get_dataloader_vae('CIFAR100')\n",
    "\n",
    "# create optimizer\n",
    "optimizer = torch.optim.AdamW(cifar100.parameters(), lr=learning_rate, weight_decay=weight_decay)\n",
    "\n",
    "# train vae\n",
    "cifar100, train_loss_c100, test_loss_c100 = train_vae(cifar100, optimizer, 150, train_dl, test_dl, 'CIFAR100')\n",
    "\n",
    "# delete model from memory to save space\n",
    "del cifar100"
   ]
  },
  {
   "cell_type": "code",
   "execution_count": null,
   "metadata": {},
   "outputs": [],
   "source": [
    "# plot losses\n",
    "plt.plot(range(len(train_loss_c100)), train_loss_c100, label=\"Training Loss\")\n",
    "plt.plot(range(len(test_loss_c100)), test_loss_c100, label=\"Validation Loss\")\n",
    "plt.title('Training and Validation loss per epoch for CIFAR 100 VAE')\n",
    "plt.xlabel('Epoch')\n",
    "plt.ylabel('Val Loss')\n",
    "plt.legend()\n",
    "plt.show() "
   ]
  },
  {
   "cell_type": "code",
   "execution_count": null,
   "metadata": {},
   "outputs": [],
   "source": []
  }
 ],
 "metadata": {
  "kernelspec": {
   "display_name": "pmenv",
   "language": "python",
   "name": "python3"
  },
  "language_info": {
   "codemirror_mode": {
    "name": "ipython",
    "version": 3
   },
   "file_extension": ".py",
   "mimetype": "text/x-python",
   "name": "python",
   "nbconvert_exporter": "python",
   "pygments_lexer": "ipython3",
   "version": "3.11.9"
  }
 },
 "nbformat": 4,
 "nbformat_minor": 2
}
