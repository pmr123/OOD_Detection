{
 "cells": [
  {
   "cell_type": "code",
   "execution_count": 1,
   "metadata": {},
   "outputs": [],
   "source": [
    "import torch\n",
    "import numpy as np\n",
    "from torchvision import datasets, transforms"
   ]
  },
  {
   "cell_type": "code",
   "execution_count": 2,
   "metadata": {},
   "outputs": [],
   "source": [
    "# IN distribution\n",
    "batch_size = 128\n",
    "\n",
    "#normalisation\n",
    "mean = np.array([[125.3/255, 123.0/255, 113.9/255]]).T\n",
    "std = np.array([[63.0/255, 62.1/255.0, 66.7/255.0]]).T\n",
    "normalize = transforms.Normalize((125.3/255, 123.0/255, 113.9/255), (63.0/255, 62.1/255.0, 66.7/255.0))\n",
    "\n",
    "#Transform\n",
    "transform_train = transforms.Compose([\n",
    "    transforms.RandomCrop(32, padding=4),\n",
    "    transforms.RandomHorizontalFlip(),\n",
    "    transforms.ToTensor(),\n",
    "    normalize\n",
    "])\n",
    "\n",
    "transform_test = transforms.Compose([\n",
    "    transforms.CenterCrop(size=(32, 32)),\n",
    "    transforms.ToTensor(),\n",
    "    normalize\n",
    "])\n",
    "\n",
    "transform_mnist = transforms.Compose([\n",
    "    transforms.Resize((32, 32)),  \n",
    "    transforms.ToTensor(),\n",
    "    transforms.Normalize((0.1307,), (0.3081,)) \n",
    "])"
   ]
  },
  {
   "cell_type": "markdown",
   "metadata": {},
   "source": [
    "# In order distribution"
   ]
  },
  {
   "cell_type": "code",
   "execution_count": 3,
   "metadata": {},
   "outputs": [
    {
     "name": "stdout",
     "output_type": "stream",
     "text": [
      "Downloading https://www.cs.toronto.edu/~kriz/cifar-100-python.tar.gz to data/cifar-100-python.tar.gz\n"
     ]
    },
    {
     "name": "stderr",
     "output_type": "stream",
     "text": [
      "100%|█████████████████████████████████████████████████████████████████████████████████████████████████| 169001437/169001437 [00:01<00:00, 96981910.62it/s]\n"
     ]
    },
    {
     "name": "stdout",
     "output_type": "stream",
     "text": [
      "Extracting data/cifar-100-python.tar.gz to data\n"
     ]
    }
   ],
   "source": [
    "train_loader = torch.utils.data.DataLoader(\n",
    "    datasets.CIFAR100('data', train=True, download=True, transform=transform_train),\n",
    "    batch_size=batch_size, shuffle=True)\n",
    "test_loader = torch.utils.data.DataLoader(\n",
    "    datasets.CIFAR100('data', train=False, transform=transform_test),\n",
    "    batch_size=batch_size)"
   ]
  },
  {
   "cell_type": "code",
   "execution_count": 4,
   "metadata": {},
   "outputs": [
    {
     "name": "stdout",
     "output_type": "stream",
     "text": [
      "Files already downloaded and verified\n",
      "Files already downloaded and verified\n"
     ]
    }
   ],
   "source": [
    "train_data = list(torch.utils.data.DataLoader(\n",
    "        datasets.CIFAR100('data', train=True, download=True, transform=transform_test),\n",
    "        batch_size=1, shuffle=False))\n",
    "\n",
    "data = list(torch.utils.data.DataLoader(\n",
    "    datasets.CIFAR100('data', train=False, download=True, transform=transform_test),\n",
    "    batch_size=1, shuffle=False))"
   ]
  },
  {
   "cell_type": "markdown",
   "metadata": {},
   "source": [
    "# out of Order detection"
   ]
  },
  {
   "cell_type": "code",
   "execution_count": 5,
   "metadata": {},
   "outputs": [
    {
     "name": "stdout",
     "output_type": "stream",
     "text": [
      "Downloading https://www.cs.toronto.edu/~kriz/cifar-10-python.tar.gz to data/cifar-10-python.tar.gz\n"
     ]
    },
    {
     "name": "stderr",
     "output_type": "stream",
     "text": [
      "100%|█████████████████████████████████████████████████████████████████████████████████████████████████| 170498071/170498071 [00:02<00:00, 66505456.87it/s]\n"
     ]
    },
    {
     "name": "stdout",
     "output_type": "stream",
     "text": [
      "Extracting data/cifar-10-python.tar.gz to data\n"
     ]
    }
   ],
   "source": [
    "cifar10 = list(torch.utils.data.DataLoader(\n",
    "        datasets.CIFAR10('data', train=False, download=True,\n",
    "                       transform=transform_test),\n",
    "        batch_size=1, shuffle=False))"
   ]
  },
  {
   "cell_type": "code",
   "execution_count": 6,
   "metadata": {},
   "outputs": [
    {
     "name": "stdout",
     "output_type": "stream",
     "text": [
      "Downloading http://ufldl.stanford.edu/housenumbers/test_32x32.mat to data/test_32x32.mat\n"
     ]
    },
    {
     "name": "stderr",
     "output_type": "stream",
     "text": [
      "100%|███████████████████████████████████████████████████████████████████████████████████████████████████| 64275384/64275384 [00:02<00:00, 24925625.01it/s]\n"
     ]
    }
   ],
   "source": [
    "svhn = list(torch.utils.data.DataLoader(\n",
    "    datasets.SVHN('data', split=\"test\", download=True,\n",
    "                   transform=transform_test),\n",
    "    batch_size=1, shuffle=True))"
   ]
  },
  {
   "cell_type": "code",
   "execution_count": 10,
   "metadata": {},
   "outputs": [
    {
     "name": "stdout",
     "output_type": "stream",
     "text": [
      "--2024-04-14 21:35:06--  https://www.dropbox.com/s/fhtsw1m3qxlwj6h/LSUN.tar.gz\n",
      "Resolving www.dropbox.com (www.dropbox.com)... 162.125.4.18, 2620:100:6019:18::a27d:412\n",
      "Connecting to www.dropbox.com (www.dropbox.com)|162.125.4.18|:443... connected.\n",
      "HTTP request sent, awaiting response... 302 Found\n",
      "Location: /s/raw/fhtsw1m3qxlwj6h/LSUN.tar.gz [following]\n",
      "--2024-04-14 21:35:06--  https://www.dropbox.com/s/raw/fhtsw1m3qxlwj6h/LSUN.tar.gz\n",
      "Reusing existing connection to www.dropbox.com:443.\n",
      "HTTP request sent, awaiting response... 302 Found\n",
      "Location: https://ucfe9a141af1e7951374681ca9ff.dl.dropboxusercontent.com/cd/0/inline/CRD1woavJGQRLOpEpE6ggkneSFNV6Rtr55L_vzD25oGSPv2v1oXg-Qed1hdljgnPwlDGZNWB5LrEYukk7KNX0IB004RZf2KVklsZ8Eo3kLnY6kKtnp2_SK5YNnqrbV-jXzuGMWtuwy-Wi6CE3aA7q43l/file# [following]\n",
      "--2024-04-14 21:35:06--  https://ucfe9a141af1e7951374681ca9ff.dl.dropboxusercontent.com/cd/0/inline/CRD1woavJGQRLOpEpE6ggkneSFNV6Rtr55L_vzD25oGSPv2v1oXg-Qed1hdljgnPwlDGZNWB5LrEYukk7KNX0IB004RZf2KVklsZ8Eo3kLnY6kKtnp2_SK5YNnqrbV-jXzuGMWtuwy-Wi6CE3aA7q43l/file\n",
      "Resolving ucfe9a141af1e7951374681ca9ff.dl.dropboxusercontent.com (ucfe9a141af1e7951374681ca9ff.dl.dropboxusercontent.com)... 162.125.4.15, 2620:100:6019:15::a27d:40f\n",
      "Connecting to ucfe9a141af1e7951374681ca9ff.dl.dropboxusercontent.com (ucfe9a141af1e7951374681ca9ff.dl.dropboxusercontent.com)|162.125.4.15|:443... connected.\n",
      "HTTP request sent, awaiting response... 302 Found\n",
      "Location: /cd/0/inline2/CRATSlgOllnZicvs9GXhZZkr8RQIJrPfnX-c7-IakWUUlA6UXc9FKHg53KgB2GeekSeavie2PgqIgley0Oz64aoShMJtVETrl3lWAajWnRbjzcdoB2YBl9ZQVHCte4EnZtvlooFqO3xaLOJERPPzNZcI_S8uBQcoObWIr2v3yBxVNqGIote32rm_eJAAm1DgJ4s_jZFy6LU-FT4nGR9A-wQqZizZdjPjlimXfbCD2WwUT0oW0iW3uWZxBueVqnca6N3i0Zz80vSQonYYih3i-cvat81rc3aaU-ISs7xX5zmRpRGjWmESNP49nlhZ8SDeppuiRkWDLcsSYq7yv-FCaowpFlXF1lh2Da7zYEiiFu0Jpnvo0e27eyAr6nGbaYsoJmU/file [following]\n",
      "--2024-04-14 21:35:07--  https://ucfe9a141af1e7951374681ca9ff.dl.dropboxusercontent.com/cd/0/inline2/CRATSlgOllnZicvs9GXhZZkr8RQIJrPfnX-c7-IakWUUlA6UXc9FKHg53KgB2GeekSeavie2PgqIgley0Oz64aoShMJtVETrl3lWAajWnRbjzcdoB2YBl9ZQVHCte4EnZtvlooFqO3xaLOJERPPzNZcI_S8uBQcoObWIr2v3yBxVNqGIote32rm_eJAAm1DgJ4s_jZFy6LU-FT4nGR9A-wQqZizZdjPjlimXfbCD2WwUT0oW0iW3uWZxBueVqnca6N3i0Zz80vSQonYYih3i-cvat81rc3aaU-ISs7xX5zmRpRGjWmESNP49nlhZ8SDeppuiRkWDLcsSYq7yv-FCaowpFlXF1lh2Da7zYEiiFu0Jpnvo0e27eyAr6nGbaYsoJmU/file\n",
      "Reusing existing connection to ucfe9a141af1e7951374681ca9ff.dl.dropboxusercontent.com:443.\n",
      "HTTP request sent, awaiting response... 200 OK\n",
      "Length: 17309383 (17M) [application/octet-stream]\n",
      "Saving to: ‘LSUN.tar.gz’\n",
      "\n",
      "LSUN.tar.gz         100%[===================>]  16.51M  28.2MB/s    in 0.6s    \n",
      "\n",
      "2024-04-14 21:35:08 (28.2 MB/s) - ‘LSUN.tar.gz’ saved [17309383/17309383]\n",
      "\n"
     ]
    }
   ],
   "source": [
    "!wget https://www.dropbox.com/s/fhtsw1m3qxlwj6h/LSUN.tar.gz\n",
    "!tar -xzf LSUN.tar.gz"
   ]
  },
  {
   "cell_type": "code",
   "execution_count": 11,
   "metadata": {},
   "outputs": [],
   "source": [
    "lsun = list(torch.utils.data.DataLoader(\n",
    "    datasets.ImageFolder('LSUN/', transform=transform_test),batch_size=1,shuffle=True))\n"
   ]
  },
  {
   "cell_type": "code",
   "execution_count": 9,
   "metadata": {},
   "outputs": [
    {
     "name": "stdout",
     "output_type": "stream",
     "text": [
      "Downloading http://yann.lecun.com/exdb/mnist/train-images-idx3-ubyte.gz\n",
      "Downloading http://yann.lecun.com/exdb/mnist/train-images-idx3-ubyte.gz to data/MNIST/raw/train-images-idx3-ubyte.gz\n"
     ]
    },
    {
     "name": "stderr",
     "output_type": "stream",
     "text": [
      "100%|█████████████████████████████████████████████████████████████████████████████████████████████████████| 9912422/9912422 [00:00<00:00, 11400685.28it/s]\n"
     ]
    },
    {
     "name": "stdout",
     "output_type": "stream",
     "text": [
      "Extracting data/MNIST/raw/train-images-idx3-ubyte.gz to data/MNIST/raw\n",
      "\n",
      "Downloading http://yann.lecun.com/exdb/mnist/train-labels-idx1-ubyte.gz\n",
      "Downloading http://yann.lecun.com/exdb/mnist/train-labels-idx1-ubyte.gz to data/MNIST/raw/train-labels-idx1-ubyte.gz\n"
     ]
    },
    {
     "name": "stderr",
     "output_type": "stream",
     "text": [
      "100%|██████████████████████████████████████████████████████████████████████████████████████████████████████████| 28881/28881 [00:00<00:00, 5034524.49it/s]"
     ]
    },
    {
     "name": "stdout",
     "output_type": "stream",
     "text": [
      "Extracting data/MNIST/raw/train-labels-idx1-ubyte.gz to data/MNIST/raw\n"
     ]
    },
    {
     "name": "stderr",
     "output_type": "stream",
     "text": [
      "\n"
     ]
    },
    {
     "name": "stdout",
     "output_type": "stream",
     "text": [
      "\n",
      "Downloading http://yann.lecun.com/exdb/mnist/t10k-images-idx3-ubyte.gz\n",
      "Downloading http://yann.lecun.com/exdb/mnist/t10k-images-idx3-ubyte.gz to data/MNIST/raw/t10k-images-idx3-ubyte.gz\n"
     ]
    },
    {
     "name": "stderr",
     "output_type": "stream",
     "text": [
      "100%|█████████████████████████████████████████████████████████████████████████████████████████████████████| 1648877/1648877 [00:00<00:00, 34498041.60it/s]\n"
     ]
    },
    {
     "name": "stdout",
     "output_type": "stream",
     "text": [
      "Extracting data/MNIST/raw/t10k-images-idx3-ubyte.gz to data/MNIST/raw\n",
      "\n",
      "Downloading http://yann.lecun.com/exdb/mnist/t10k-labels-idx1-ubyte.gz\n",
      "Downloading http://yann.lecun.com/exdb/mnist/t10k-labels-idx1-ubyte.gz to data/MNIST/raw/t10k-labels-idx1-ubyte.gz\n"
     ]
    },
    {
     "name": "stderr",
     "output_type": "stream",
     "text": [
      "100%|███████████████████████████████████████████████████████████████████████████████████████████████████████████| 4542/4542 [00:00<00:00, 15216077.29it/s]"
     ]
    },
    {
     "name": "stdout",
     "output_type": "stream",
     "text": [
      "Extracting data/MNIST/raw/t10k-labels-idx1-ubyte.gz to data/MNIST/raw\n",
      "\n"
     ]
    },
    {
     "name": "stderr",
     "output_type": "stream",
     "text": [
      "\n"
     ]
    }
   ],
   "source": [
    "MNIST = list(torch.utils.data.DataLoader(\n",
    "    datasets.MNIST('data', train = False, download=True ,transform=transform_mnist),batch_size=1,shuffle=True))"
   ]
  }
 ],
 "metadata": {
  "kernelspec": {
   "display_name": "Python 3 (ipykernel)",
   "language": "python",
   "name": "python3"
  },
  "language_info": {
   "codemirror_mode": {
    "name": "ipython",
    "version": 3
   },
   "file_extension": ".py",
   "mimetype": "text/x-python",
   "name": "python",
   "nbconvert_exporter": "python",
   "pygments_lexer": "ipython3",
   "version": "3.8.10"
  }
 },
 "nbformat": 4,
 "nbformat_minor": 2
}
